{
 "cells": [
  {
   "cell_type": "markdown",
   "id": "b1cf32dc-547f-47e2-9dcc-f0d82559d168",
   "metadata": {},
   "source": [
    "# 1. Preprocess data"
   ]
  },
  {
   "cell_type": "code",
   "execution_count": 1,
   "id": "dc89b2c5-adf0-4cab-b3f3-f106395382a7",
   "metadata": {},
   "outputs": [],
   "source": [
    "# imporing necessary library\n",
    "import pandas as pd\n",
    "import nltk\n",
    "from nltk.tokenize import word_tokenize\n",
    "from nltk.corpus import stopwords\n",
    "from nltk.stem import WordNetLemmatizer\n",
    "import re"
   ]
  },
  {
   "cell_type": "code",
   "execution_count": 2,
   "id": "3a08a417-b6e7-4ce7-99b6-b9dfa226d8af",
   "metadata": {},
   "outputs": [],
   "source": [
    "#load data\n",
    "df = pd.read_csv('./amazon-sampled.csv', delimiter=';')"
   ]
  },
  {
   "cell_type": "code",
   "execution_count": 3,
   "id": "bf4f9922",
   "metadata": {},
   "outputs": [
    {
     "name": "stdout",
     "output_type": "stream",
     "text": [
      "<class 'pandas.core.frame.DataFrame'>\n",
      "RangeIndex: 4000 entries, 0 to 3999\n",
      "Data columns (total 6 columns):\n",
      " #   Column        Non-Null Count  Dtype  \n",
      "---  ------        --------------  -----  \n",
      " 0   Product Name  4000 non-null   object \n",
      " 1   Brand Name    3375 non-null   object \n",
      " 2   Price         3933 non-null   float64\n",
      " 3   Rating        3995 non-null   float64\n",
      " 4   Reviews       3993 non-null   object \n",
      " 5   Review Votes  3883 non-null   float64\n",
      "dtypes: float64(3), object(3)\n",
      "memory usage: 187.6+ KB\n"
     ]
    }
   ],
   "source": [
    "df.info()"
   ]
  },
  {
   "cell_type": "code",
   "execution_count": 4,
   "id": "c8c0324f",
   "metadata": {},
   "outputs": [
    {
     "data": {
      "text/html": [
       "<div>\n",
       "<style scoped>\n",
       "    .dataframe tbody tr th:only-of-type {\n",
       "        vertical-align: middle;\n",
       "    }\n",
       "\n",
       "    .dataframe tbody tr th {\n",
       "        vertical-align: top;\n",
       "    }\n",
       "\n",
       "    .dataframe thead th {\n",
       "        text-align: right;\n",
       "    }\n",
       "</style>\n",
       "<table border=\"1\" class=\"dataframe\">\n",
       "  <thead>\n",
       "    <tr style=\"text-align: right;\">\n",
       "      <th></th>\n",
       "      <th>Rating</th>\n",
       "      <th>Reviews</th>\n",
       "    </tr>\n",
       "  </thead>\n",
       "  <tbody>\n",
       "    <tr>\n",
       "      <th>0</th>\n",
       "      <td>5.0</td>\n",
       "      <td>Purchased this phone for my parents who have d...</td>\n",
       "    </tr>\n",
       "    <tr>\n",
       "      <th>1</th>\n",
       "      <td>5.0</td>\n",
       "      <td>good phone with a top hardware and relative lo...</td>\n",
       "    </tr>\n",
       "    <tr>\n",
       "      <th>2</th>\n",
       "      <td>5.0</td>\n",
       "      <td>5.0' Phones Unlocked Android 5.1 MTK6580 Quad...</td>\n",
       "    </tr>\n",
       "    <tr>\n",
       "      <th>3</th>\n",
       "      <td>1.0</td>\n",
       "      <td>The item was not working at all</td>\n",
       "    </tr>\n",
       "    <tr>\n",
       "      <th>4</th>\n",
       "      <td>4.0</td>\n",
       "      <td>This phone is pretty neat. For the price, it’...</td>\n",
       "    </tr>\n",
       "  </tbody>\n",
       "</table>\n",
       "</div>"
      ],
      "text/plain": [
       "   Rating                                            Reviews\n",
       "0     5.0  Purchased this phone for my parents who have d...\n",
       "1     5.0  good phone with a top hardware and relative lo...\n",
       "2     5.0   5.0' Phones Unlocked Android 5.1 MTK6580 Quad...\n",
       "3     1.0                    The item was not working at all\n",
       "4     4.0   This phone is pretty neat. For the price, it’..."
      ]
     },
     "execution_count": 4,
     "metadata": {},
     "output_type": "execute_result"
    }
   ],
   "source": [
    "df[['Rating','Reviews']].head(5)\n",
    "# df['Rating'].max()"
   ]
  },
  {
   "cell_type": "code",
   "execution_count": 5,
   "id": "f84d36d9-b85a-48bd-842e-a8ef9b2031ab",
   "metadata": {},
   "outputs": [],
   "source": [
    "#Define preprocessing functions\n",
    "def preprocess_text(text):\n",
    "    if isinstance(text, str):  # Check if text is a string\n",
    "        # Convert to lowercase\n",
    "        text = text.lower()\n",
    "        \n",
    "        # Remove punctuation and special characters\n",
    "        text = re.sub(r'[^\\w\\s]', '', text)\n",
    "        \n",
    "        # Tokenize\n",
    "        tokens = word_tokenize(text)\n",
    "        \n",
    "        # Remove stopwords\n",
    "        stop_words = set(stopwords.words('english'))\n",
    "        tokens = [token for token in tokens if token not in stop_words]\n",
    "        \n",
    "        # Lemmatization\n",
    "        lemmatizer = WordNetLemmatizer()\n",
    "        tokens = [lemmatizer.lemmatize(token) for token in tokens]\n",
    "        \n",
    "        return ' '.join(tokens)\n",
    "    else:\n",
    "        return ''  # Return an empty string for non-string inputs\n"
   ]
  },
  {
   "cell_type": "code",
   "execution_count": 6,
   "id": "aaf8cdd6",
   "metadata": {},
   "outputs": [
    {
     "name": "stdout",
     "output_type": "stream",
     "text": [
      "0    Purchased this phone for my parents who have d...\n",
      "1    good phone with a top hardware and relative lo...\n",
      "2     5.0' Phones Unlocked Android 5.1 MTK6580 Quad...\n",
      "3                      The item was not working at all\n",
      "4     This phone is pretty neat. For the price, it’...\n",
      "Name: Reviews, dtype: object\n"
     ]
    }
   ],
   "source": [
    "print(df['Reviews'].head(5))"
   ]
  },
  {
   "cell_type": "code",
   "execution_count": 7,
   "id": "b62c0718-bf75-4224-8257-b1b964597775",
   "metadata": {},
   "outputs": [
    {
     "name": "stdout",
     "output_type": "stream",
     "text": [
      "0    purchased phone parent difficulty small button...\n",
      "1           good phone top hardware relative low price\n",
      "2    50 phone unlocked android 51 mtk6580 quad core...\n",
      "3                                         item working\n",
      "4    phone pretty neat price impressive especially ...\n",
      "Name: Processed_Reviews, dtype: object\n"
     ]
    }
   ],
   "source": [
    "#Apply preprocessing to the 'Reviews' column:\n",
    "df['Processed_Reviews'] = df['Reviews'].apply(preprocess_text)\n",
    "\n",
    "# Should I use the Process_reviews or just Reviews?? Hmmph\n",
    "print(df['Processed_Reviews'].head(5))\n",
    "\n",
    "# print(df['Reviews'].head(5))"
   ]
  },
  {
   "cell_type": "code",
   "execution_count": 8,
   "id": "70f5e2e4-b576-4e46-8648-974eb41b0e09",
   "metadata": {},
   "outputs": [],
   "source": [
    "#Perform Named Entity Recognition (NER)\n",
    "import nltk\n",
    "from nltk.tokenize import word_tokenize\n",
    "from nltk import pos_tag, ne_chunk\n",
    "from nltk.corpus import stopwords\n",
    "import re\n",
    "\n",
    "def extract_entities(text):\n",
    "    if not isinstance(text, str):\n",
    "        return []  # Return an empty list if the text is not a string\n",
    "    tokens = word_tokenize(text)\n",
    "    tagged = pos_tag(tokens)\n",
    "    entities = ne_chunk(tagged)\n",
    "    return [entity for entity in entities if isinstance(entity, nltk.Tree)]\n",
    "\n",
    "\n",
    "df['Reviews'] = df['Reviews'].fillna('')  # Replace NaN values with empty strings\n",
    "df['Named_Entities'] = df['Reviews'].apply(extract_entities)\n"
   ]
  },
  {
   "cell_type": "code",
   "execution_count": 9,
   "id": "97992421-1f84-4deb-bd21-bb9084c98407",
   "metadata": {},
   "outputs": [],
   "source": [
    "#Create a bag-of-words representation\n",
    "from sklearn.feature_extraction.text import CountVectorizer\n",
    "vectorizer = CountVectorizer()\n",
    "bow_matrix = vectorizer.fit_transform(df['Processed_Reviews'])\n",
    "bow_df = pd.DataFrame(bow_matrix.toarray(), columns=vectorizer.get_feature_names_out())"
   ]
  },
  {
   "cell_type": "code",
   "execution_count": 10,
   "id": "dd79ef2b",
   "metadata": {},
   "outputs": [],
   "source": [
    "#bow_df.head(5)\n",
    "\n",
    "# Do we really need the Bag of word? For what purpose?"
   ]
  },
  {
   "cell_type": "code",
   "execution_count": 11,
   "id": "fc2d4a2d-20dd-4dfc-b780-7b130d7c6b16",
   "metadata": {},
   "outputs": [],
   "source": [
    "#Generate sentiment scores:\n",
    "from nltk.sentiment import SentimentIntensityAnalyzer\n",
    "\n",
    "sia = SentimentIntensityAnalyzer()\n",
    "df['Sentiment_Scores'] = df['Reviews'].apply(lambda x: sia.polarity_scores(x))\n",
    "df['Sentiment'] = df['Sentiment_Scores'].apply(lambda x: 'Positive' if x['compound'] > 0 else ('Negative' if x['compound'] < 0 else 'Neutral'))"
   ]
  },
  {
   "cell_type": "code",
   "execution_count": 12,
   "id": "9461d568-a150-4d5f-8218-776f95aa23d4",
   "metadata": {},
   "outputs": [],
   "source": [
    "#Extract additional features:\n",
    "df['Review_Length'] = df['Reviews'].apply(len)\n",
    "df['Word_Count'] = df['Reviews'].apply(lambda x: len(word_tokenize(x)))\n",
    "df['Sentence_Count'] = df['Reviews'].apply(lambda x: len(nltk.sent_tokenize(x)))"
   ]
  },
  {
   "cell_type": "code",
   "execution_count": 13,
   "id": "69850b6a-e167-49eb-8d71-ebe7af2445b0",
   "metadata": {},
   "outputs": [
    {
     "name": "stdout",
     "output_type": "stream",
     "text": [
      "Product Name           0\n",
      "Brand Name           625\n",
      "Price                 67\n",
      "Rating                 5\n",
      "Reviews                0\n",
      "Review Votes         117\n",
      "Processed_Reviews      0\n",
      "Named_Entities         0\n",
      "Sentiment_Scores       0\n",
      "Sentiment              0\n",
      "Review_Length          0\n",
      "Word_Count             0\n",
      "Sentence_Count         0\n",
      "dtype: int64\n"
     ]
    }
   ],
   "source": [
    "# Check for missing values\n",
    "\n",
    "# Check for missing values\n",
    "missing_values = df.isnull().sum()\n",
    "print(missing_values)\n",
    "\n",
    "# Handle missing values\n",
    "df['Reviews'] = df['Reviews'].fillna('No review provided')\n",
    "df['Brand Name'] = df['Brand Name'].fillna('Unknown')\n",
    "df['Price'] = df['Price'].fillna(df['Price'].mean())\n",
    "df['Rating'] = df['Rating'].fillna(df['Rating'].median())\n",
    "\n"
   ]
  },
  {
   "cell_type": "code",
   "execution_count": 14,
   "id": "608e113e-e1eb-4c24-a174-fa547eaefabd",
   "metadata": {},
   "outputs": [],
   "source": [
    "# Remove duplicate reviews\n",
    "df.drop_duplicates(subset=['Reviews'], keep='first', inplace=True)"
   ]
  },
  {
   "cell_type": "code",
   "execution_count": 15,
   "id": "3d52dc66-934b-451f-a649-ade38efe9b0e",
   "metadata": {},
   "outputs": [],
   "source": [
    "# Standardize price format\n",
    "df['Price'] = df['Price'].astype(float).round(2)\n",
    "\n",
    "# Ensure rating is an integer between 1 and 5\n",
    "df['Rating'] = df['Rating'].astype(int).clip(1, 5)"
   ]
  },
  {
   "cell_type": "code",
   "execution_count": 16,
   "id": "87bd9846-4f29-4f2b-82da-e4ade357e8f9",
   "metadata": {},
   "outputs": [],
   "source": [
    "#Outlier Detection\n",
    "import numpy as np\n",
    "\n",
    "# Detect and handle price outliers using IQR method\n",
    "Q1 = df['Price'].quantile(0.25)\n",
    "Q3 = df['Price'].quantile(0.75)\n",
    "IQR = Q3 - Q1\n",
    "lower_bound = Q1 - 1.5 * IQR\n",
    "upper_bound = Q3 + 1.5 * IQR\n",
    "\n",
    "df['Price'] = np.where(df['Price'] < lower_bound, lower_bound, \n",
    "                       np.where(df['Price'] > upper_bound, upper_bound, df['Price']))"
   ]
  },
  {
   "cell_type": "code",
   "execution_count": 17,
   "id": "bd0cea7d-6d35-4707-9c10-02f280663bfc",
   "metadata": {},
   "outputs": [],
   "source": [
    "#Text Normalization\n",
    "import re\n",
    "\n",
    "def normalize_text(text):\n",
    "    # Convert to lowercase\n",
    "    text = text.lower()\n",
    "    \n",
    "    # Remove special characters and digits\n",
    "    text = re.sub(r'[^a-zA-Z\\s]', '', text)\n",
    "    \n",
    "    # Remove extra whitespace\n",
    "    text = re.sub(r'\\s+', ' ', text).strip()\n",
    "    \n",
    "    return text\n",
    "\n",
    "df['Normalized_Reviews'] = df['Reviews'].apply(normalize_text)"
   ]
  },
  {
   "cell_type": "code",
   "execution_count": 18,
   "id": "38bd3cdc-12fc-4d54-9bbe-785f577fbe7f",
   "metadata": {},
   "outputs": [],
   "source": [
    "#Brand Name Standardization\n",
    "if 'Brand Name' in df.columns:\n",
    "    df['Brand Name'] = df['Brand Name'].replace({'Alcatel': 'ALCATEL', 'TCL Mobile': 'TCL', 'star': 'Star'})\n",
    "else:\n",
    "    print(\"Column 'Brand' does not exist in the DataFrame\")\n"
   ]
  },
  {
   "cell_type": "code",
   "execution_count": 19,
   "id": "3445632d-f8d9-459d-b07e-dc2cddc42ef6",
   "metadata": {},
   "outputs": [],
   "source": [
    "# Remove extremely short reviews (less than 5 words)\n",
    "df = df[df['Reviews'].str.split().str.len() >= 5]"
   ]
  },
  {
   "cell_type": "code",
   "execution_count": 20,
   "id": "5ad8de14-d5d9-4dac-b331-7f043b580ba2",
   "metadata": {},
   "outputs": [
    {
     "name": "stdout",
     "output_type": "stream",
     "text": [
      "Requirement already satisfied: langdetect in c:\\users\\minh-hieu\\anaconda3\\lib\\site-packages (1.0.9)\n",
      "Requirement already satisfied: six in c:\\users\\minh-hieu\\anaconda3\\lib\\site-packages (from langdetect) (1.16.0)\n"
     ]
    }
   ],
   "source": [
    "#Handling Non-English Reviews\n",
    "!pip install langdetect\n",
    "\n",
    "from langdetect import detect\n",
    "\n",
    "def is_english(text):\n",
    "    try:\n",
    "        return detect(text) == 'en'\n",
    "    except:\n",
    "        return False\n",
    "\n",
    "df = df[df['Reviews'].apply(is_english)]"
   ]
  },
  {
   "cell_type": "code",
   "execution_count": 21,
   "id": "a6f01c7d-3811-4b60-a09a-c183bad838c1",
   "metadata": {},
   "outputs": [],
   "source": [
    "#Removing HTML Tags\n",
    "df['Reviews'] = df['Reviews'].apply(lambda x: re.sub('<.*?>', '', x))"
   ]
  },
  {
   "cell_type": "code",
   "execution_count": 22,
   "id": "a550d966-16a1-4883-a553-32135c0706ba",
   "metadata": {},
   "outputs": [],
   "source": [
    "# Standardize product names\n",
    "df['Product Name'] = df['Product Name'].str.replace('ALCATEL OneTouch', 'Alcatel OneTouch')\n",
    "df['Product Name'] = df['Product Name'].str.replace('Iphone', 'iPhone')\n"
   ]
  },
  {
   "cell_type": "code",
   "execution_count": 23,
   "id": "42a00b35-6cf8-4fc8-ab59-784beb192c49",
   "metadata": {},
   "outputs": [
    {
     "name": "stdout",
     "output_type": "stream",
     "text": [
      "<class 'pandas.core.frame.DataFrame'>\n",
      "Index: 2981 entries, 0 to 3999\n",
      "Data columns (total 14 columns):\n",
      " #   Column              Non-Null Count  Dtype  \n",
      "---  ------              --------------  -----  \n",
      " 0   Product Name        2981 non-null   object \n",
      " 1   Brand Name          2981 non-null   object \n",
      " 2   Price               2981 non-null   float64\n",
      " 3   Rating              2981 non-null   int32  \n",
      " 4   Reviews             2981 non-null   object \n",
      " 5   Review Votes        2890 non-null   float64\n",
      " 6   Processed_Reviews   2981 non-null   object \n",
      " 7   Named_Entities      2981 non-null   object \n",
      " 8   Sentiment_Scores    2981 non-null   object \n",
      " 9   Sentiment           2981 non-null   object \n",
      " 10  Review_Length       2981 non-null   int64  \n",
      " 11  Word_Count          2981 non-null   int64  \n",
      " 12  Sentence_Count      2981 non-null   int64  \n",
      " 13  Normalized_Reviews  2981 non-null   object \n",
      "dtypes: float64(2), int32(1), int64(3), object(8)\n",
      "memory usage: 337.7+ KB\n",
      "None\n",
      "             Price       Rating  Review Votes  Review_Length   Word_Count  \\\n",
      "count  2981.000000  2981.000000   2890.000000    2981.000000  2981.000000   \n",
      "mean    206.491357     3.588058      2.080969     268.411271    57.333110   \n",
      "std     164.442927     1.606210     12.501229     445.865507    92.970913   \n",
      "min       1.730000     1.000000      0.000000      18.000000     5.000000   \n",
      "25%      83.880000     2.000000      0.000000      69.000000    15.000000   \n",
      "50%     150.000000     4.000000      0.000000     138.000000    30.000000   \n",
      "75%     275.000000     5.000000      1.000000     291.000000    62.000000   \n",
      "max     572.461250     5.000000    465.000000    9100.000000  1844.000000   \n",
      "\n",
      "       Sentence_Count  \n",
      "count     2981.000000  \n",
      "mean         3.439450  \n",
      "std          4.162646  \n",
      "min          1.000000  \n",
      "25%          1.000000  \n",
      "50%          2.000000  \n",
      "75%          4.000000  \n",
      "max         70.000000  \n",
      "                                           Product Name Brand Name      Price  \\\n",
      "3917  Verizon Casio GzOne Boulder No Contract PTT Ru...      Casio   94.99000   \n",
      "1275  BLU Life XL - LTE Smartphone - GSM Unlocked - ...        BLU  572.46125   \n",
      "3006  Samsung Galaxy J5 SM-J500H/DS GSM Factory Unlo...    Samsung  169.40000   \n",
      "3924  Verizon Casio GzOne Boulder No Contract Rugged...      Casio   84.99000   \n",
      "1174  BLU Energy X Plus Smartphone - With 4000 mAh S...        BLU  139.00000   \n",
      "\n",
      "      Rating                                            Reviews  Review Votes  \\\n",
      "3917       4  Not what I had expected. The phone was a bit s...           0.0   \n",
      "1275       3  I was not expecting the phone that I got but w...           0.0   \n",
      "3006       3  The phone arrived in ALMOST perfect condition....          37.0   \n",
      "3924       5         Great Product, Great Company to work with.           0.0   \n",
      "1174       4  Great phone! I loved the battery life. Screen ...           0.0   \n",
      "\n",
      "                                      Processed_Reviews  \\\n",
      "3917  expected phone bit smaller volume setting high...   \n",
      "1275  expecting phone got handling phone seemed fine...   \n",
      "3006  phone arrived almost perfect condition satisfi...   \n",
      "3924                   great product great company work   \n",
      "1174  great phone loved battery life screen good wel...   \n",
      "\n",
      "                                         Named_Entities  \\\n",
      "3917                                                 []   \n",
      "1275                                                 []   \n",
      "3006  [[(ALMOST, NNP)], [(EXCEPT, NNP)], [(Camera, N...   \n",
      "3924  [[(Great, NNP)], [(Product, NNP)], [(Great, NN...   \n",
      "1174     [[(Great, NNP)], [(Screen, NNP)], [(OS, NNP)]]   \n",
      "\n",
      "                                       Sentiment_Scores Sentiment  \\\n",
      "3917  {'neg': 0.0, 'neu': 0.929, 'pos': 0.071, 'comp...  Positive   \n",
      "1275  {'neg': 0.0, 'neu': 0.8, 'pos': 0.2, 'compound...  Positive   \n",
      "3006  {'neg': 0.043, 'neu': 0.847, 'pos': 0.11, 'com...  Positive   \n",
      "3924  {'neg': 0.0, 'neu': 0.379, 'pos': 0.621, 'comp...  Positive   \n",
      "1174  {'neg': 0.029, 'neu': 0.888, 'pos': 0.083, 'co...  Positive   \n",
      "\n",
      "      Review_Length  Word_Count  Sentence_Count  \\\n",
      "3917            201          49               3   \n",
      "1275            140          31               1   \n",
      "3006           1349         278              12   \n",
      "3924             42           9               1   \n",
      "1174            549         118               5   \n",
      "\n",
      "                                     Normalized_Reviews  \n",
      "3917  not what i had expected the phone was a bit sm...  \n",
      "1275  i was not expecting the phone that i got but w...  \n",
      "3006  the phone arrived in almost perfect condition ...  \n",
      "3924           great product great company to work with  \n",
      "1174  great phone i loved the battery life screen is...  \n"
     ]
    }
   ],
   "source": [
    "# Final data quality check\n",
    "print(df.info())\n",
    "print(df.describe())\n",
    "\n",
    "# Sample of cleaned data\n",
    "print(df.sample(5))"
   ]
  },
  {
   "cell_type": "markdown",
   "id": "7db241c7-36fc-4de8-8577-fcdce9f7b9ec",
   "metadata": {},
   "source": [
    "# 2. Sentiment analysis"
   ]
  },
  {
   "cell_type": "markdown",
   "id": "ae31bb4f-f8ac-4fc8-85a8-3b9c6e9d791e",
   "metadata": {},
   "source": [
    "## 2.1 Linear Regression"
   ]
  },
  {
   "cell_type": "code",
   "execution_count": 24,
   "id": "b3dbe1e1-4cc5-4bd5-aed1-f416679f3ff7",
   "metadata": {},
   "outputs": [
    {
     "name": "stdout",
     "output_type": "stream",
     "text": [
      "Mean Squared Error: 2.389196\n",
      "F1 Score: 0.13204506303498545\n",
      "Linear regression Accuracy: 0.1562\n",
      "\n",
      "Classification Report:\n",
      "              precision    recall  f1-score   support\n",
      "\n",
      "           1       0.00      0.00      0.00       104\n",
      "           2       0.15      0.05      0.07        43\n",
      "           3       0.07      0.40      0.12        35\n",
      "           4       0.17      0.53      0.25        64\n",
      "           5       0.83      0.10      0.18       202\n",
      "\n",
      "    accuracy                           0.16       448\n",
      "   macro avg       0.24      0.22      0.12       448\n",
      "weighted avg       0.42      0.16      0.13       448\n",
      "\n"
     ]
    }
   ],
   "source": [
    "from sklearn.feature_extraction.text import TfidfVectorizer\n",
    "from sklearn.linear_model import LinearRegression\n",
    "from sklearn.naive_bayes import MultinomialNB\n",
    "from sklearn.model_selection import train_test_split\n",
    "from sklearn.metrics import accuracy_score, classification_report, mean_squared_error, f1_score\n",
    "import warnings\n",
    "\n",
    "warnings.filterwarnings('ignore')\n",
    "\n",
    "tfidf_vectorizer = TfidfVectorizer(\n",
    "    tokenizer = lambda doc: doc, \n",
    "    lowercase = False,\n",
    "    max_df=0.95,  # Ignore terms that appear in more than 95% of documents\n",
    "    min_df=2,     # Ignore terms that appear in less than 2 documents\n",
    "    max_features=1000  # Limit to 1000 features\n",
    "    )\n",
    "\n",
    "# Split the data into training and testing sets\n",
    "x = tfidf_vectorizer.fit_transform(df['Processed_Reviews'])\n",
    "y = df['Rating']\n",
    "\n",
    "x_train, x_test, y_train, y_test = train_test_split(x, y, \n",
    "                                                    test_size = 0.15,\n",
    "                                                   random_state= 42)\n",
    "\n",
    "# Train a Naive Bayes classifier\n",
    "model = LinearRegression()\n",
    "model.fit(x_train, y_train)\n",
    "\n",
    "# Make predictions on the test set\n",
    "y_pred = model.predict(x_test)\n",
    "y_pred_rounded = np.round(y_pred).astype(int) # Round y_pred to nearest integer\n",
    "y_pred_rounded = np.clip(y_pred_rounded, 1, 5) # Clip values to ensure they're in the range 1-5\n",
    "\n",
    "# Calculate and print Mean Squared Error\n",
    "print(f'Mean Squared Error: {mean_squared_error(y_test, y_pred):1f}')\n",
    "\n",
    "# Calculate F1 score\n",
    "f1 = f1_score(y_test, y_pred_rounded, average='weighted')\n",
    "print(f'F1 Score: {f1}')\n",
    "\n",
    "# Calculate accuracy\n",
    "accuracy_lr = accuracy_score(y_test, y_pred_rounded)\n",
    "print(f'Linear regression Accuracy: {accuracy_lr:.4f}')\n",
    "\n",
    "# Print classification report for detailed evaluation\n",
    "print(\"\\nClassification Report:\")\n",
    "print(classification_report(y_test, y_pred_rounded))"
   ]
  },
  {
   "cell_type": "code",
   "execution_count": 25,
   "id": "8c67c814-220e-4e9e-b903-59fff97b4dd6",
   "metadata": {},
   "outputs": [
    {
     "name": "stdout",
     "output_type": "stream",
     "text": [
      "\n",
      "    Review: \"Bought this phone three weeks ago and now I regret it\"\n",
      "    Predicted rating: 3\n",
      "\n",
      "    Review: \"My grandmother said the phone that I gave her last month is good!\"\n",
      "    Predicted rating: 4\n",
      "\n",
      "    Review: \"This phone not worth the price\"\n",
      "    Predicted rating: 3\n",
      "\n",
      "    Review: \"GO BUY IT WHILE ITS AVAILABLE! YOU WON'T REGRET IT!\"\n",
      "    Predicted rating: 4\n",
      "\n",
      "    Review: \"I hate this\"\n",
      "    Predicted rating: 3\n",
      "\n",
      "    Review: \"Broken stuff\"\n",
      "    Predicted rating: 4\n",
      "\n",
      "    Review: \"Useful!\"\n",
      "    Predicted rating: 3\n",
      "\n",
      "    Review: \"Expensive!\"\n",
      "    Predicted rating: 5\n",
      "\n",
      "    Review: \"Disgusting!\"\n",
      "    Predicted rating: 3\n",
      "\n",
      "    Review: \"Wonderful~\"\n",
      "    Predicted rating: 3\n",
      "\n",
      "    Review: \"I like it\"\n",
      "    Predicted rating: 3\n",
      "\n",
      "    Review: \"I do not like it\"\n",
      "    Predicted rating: 3\n",
      "\n",
      "    Review: \"I do not want to use it\"\n",
      "    Predicted rating: 2\n",
      "\n",
      "    Review: \"He does not want to use it\"\n",
      "    Predicted rating: 2\n",
      "\n",
      "    Review: \"We like to use it\"\n",
      "    Predicted rating: 2\n"
     ]
    }
   ],
   "source": [
    "test_reviews = [\"Bought this phone three weeks ago and now I regret it\",\n",
    "               \"My grandmother said the phone that I gave her last month is good!\",\n",
    "               \"This phone not worth the price\",\n",
    "               \"GO BUY IT WHILE ITS AVAILABLE! YOU WON'T REGRET IT!\",\n",
    "               \"I hate this\",\n",
    "               \"Broken stuff\",\n",
    "               \"Useful!\",\n",
    "               \"Expensive!\",\n",
    "               \"Disgusting!\",\n",
    "               \"Wonderful~\",\n",
    "               \"I like it\",\n",
    "               \"I do not like it\",\n",
    "               \"I do not want to use it\",\n",
    "               \"He does not want to use it\",\n",
    "               \"We like to use it\"]\n",
    "\n",
    "new_test_feature = tfidf_vectorizer.transform([preprocess_text(review) for review in test_reviews])\n",
    "\n",
    "newPrediction = model.predict(new_test_feature)\n",
    "\n",
    "for review, rating in zip(test_reviews, newPrediction):\n",
    "    print(f'''\n",
    "    Review: \"{review}\"\n",
    "    Predicted rating: {int(rating)}''')"
   ]
  },
  {
   "cell_type": "markdown",
   "id": "1614ab3e-b94a-4356-b94c-281e245ec514",
   "metadata": {},
   "source": [
    "## 2.2 Naive Bayes"
   ]
  },
  {
   "cell_type": "code",
   "execution_count": 26,
   "id": "c96bfd35-ce32-4cad-9e8f-c8eb6841e37f",
   "metadata": {},
   "outputs": [
    {
     "name": "stdout",
     "output_type": "stream",
     "text": [
      "Mean Squared Error: 2.371859\n",
      "F1 score: 0.5089\n",
      "Accuracy: 0.592964824120603\n",
      "\n",
      "Classification Report:\n",
      "              precision    recall  f1-score   support\n",
      "\n",
      "           1       0.70      0.63      0.66       137\n",
      "           2       0.20      0.02      0.03        55\n",
      "           3       0.00      0.00      0.00        46\n",
      "           4       0.27      0.11      0.16        91\n",
      "           5       0.59      0.96      0.73       268\n",
      "\n",
      "    accuracy                           0.59       597\n",
      "   macro avg       0.35      0.34      0.32       597\n",
      "weighted avg       0.49      0.59      0.51       597\n",
      "\n"
     ]
    }
   ],
   "source": [
    "# Split the data into training and testing sets\n",
    "X_train2, X_test2, y_train2, y_test2 = train_test_split(df['Processed_Reviews'], df['Rating'], test_size=0.2, random_state=42)\n",
    "\n",
    "# Create a bag of words model\n",
    "count_vectorizer = CountVectorizer()\n",
    "X_train_vectorized = count_vectorizer.fit_transform(X_train2)\n",
    "X_test_vectorized = count_vectorizer.transform(X_test2)\n",
    "\n",
    "# Train a Naive Bayes classifier\n",
    "nb_model = MultinomialNB(alpha=1.0, fit_prior=True, class_prior=None)\n",
    "nb_model.fit(X_train_vectorized, y_train2)\n",
    "\n",
    "# Make predictions on the test set\n",
    "y_pred2 = nb_model.predict(X_test_vectorized)\n",
    "\n",
    "# Calculate and print Mean Squared Error\n",
    "print(f'Mean Squared Error: {mean_squared_error(y_test2, y_pred2):1f}')\n",
    "\n",
    "# Calculate F1 score\n",
    "f1 = f1_score(y_test2, y_pred2, average='weighted')\n",
    "print(f\"F1 score: {f1:.4f}\")\n",
    "\n",
    "# Calculate accuracy\n",
    "print(f'Accuracy: {accuracy_score(y_test2, y_pred2)}')\n",
    "\n",
    "# Print classification report for detailed evaluation\n",
    "print(\"\\nClassification Report:\")\n",
    "print(classification_report(y_test2, y_pred2))"
   ]
  },
  {
   "cell_type": "code",
   "execution_count": 27,
   "id": "06246f10-78d7-403e-90f3-e76f56178419",
   "metadata": {},
   "outputs": [
    {
     "name": "stdout",
     "output_type": "stream",
     "text": [
      "Review: Bought this phone three weeks ago and now I regret it\n",
      "Predicted rating: 1\n",
      "\n",
      "Review: My grandmother said the phone that I gave her last month is good!\n",
      "Predicted rating: 1\n",
      "\n",
      "Review: This phone not worth the price\n",
      "Predicted rating: 5\n",
      "\n",
      "Review: GO BUY IT WHILE ITS AVAILABLE! YOU WON'T REGRET IT!\n",
      "Predicted rating: 5\n",
      "\n",
      "Review: I hate this\n",
      "Predicted rating: 5\n",
      "\n",
      "Review: Broken stuff\n",
      "Predicted rating: 1\n",
      "\n",
      "Review: Useful!\n",
      "Predicted rating: 5\n",
      "\n",
      "Review: Expensive!\n",
      "Predicted rating: 5\n",
      "\n",
      "Review: Disgusting!\n",
      "Predicted rating: 5\n",
      "\n",
      "Review: Wonderful~\n",
      "Predicted rating: 5\n",
      "\n",
      "Review: I like it\n",
      "Predicted rating: 5\n",
      "\n",
      "Review: I do not like it\n",
      "Predicted rating: 5\n",
      "\n",
      "Review: I do not want to use it\n",
      "Predicted rating: 5\n",
      "\n",
      "Review: He does not want to use it\n",
      "Predicted rating: 5\n",
      "\n",
      "Review: We like to use it\n",
      "Predicted rating: 5\n",
      "\n"
     ]
    }
   ],
   "source": [
    "# Test new reviews with Naive Bayes model\n",
    "new_reviews = [\"Bought this phone three weeks ago and now I regret it\",\n",
    "               \"My grandmother said the phone that I gave her last month is good!\",\n",
    "               \"This phone not worth the price\",\n",
    "               \"GO BUY IT WHILE ITS AVAILABLE! YOU WON'T REGRET IT!\",\n",
    "               \"I hate this\",\n",
    "               \"Broken stuff\",\n",
    "               \"Useful!\",\n",
    "               \"Expensive!\",\n",
    "               \"Disgusting!\",\n",
    "               \"Wonderful~\",\n",
    "               \"I like it\",\n",
    "               \"I do not like it\",\n",
    "               \"I do not want to use it\",\n",
    "               \"He does not want to use it\",\n",
    "               \"We like to use it\"]\n",
    "\n",
    "vectorized_new_reviews = count_vectorizer.transform(new_reviews)\n",
    "\n",
    "predictions = nb_model.predict(vectorized_new_reviews)\n",
    "\n",
    "for review, prediction in zip(new_reviews, predictions):\n",
    "    print(f\"Review: {review}\")\n",
    "    print(f\"Predicted rating: {prediction}\")\n",
    "    print()"
   ]
  },
  {
   "cell_type": "markdown",
   "id": "97be0b84-d3c5-43c8-a098-c8399801f5c6",
   "metadata": {},
   "source": [
    "## 2.3 Random Forest"
   ]
  },
  {
   "cell_type": "code",
   "execution_count": 28,
   "id": "d3b98589-15d2-4e61-b37a-b1bcd7f299ad",
   "metadata": {},
   "outputs": [
    {
     "name": "stdout",
     "output_type": "stream",
     "text": [
      "\n",
      "Random Forest Mean Squared Error: 0.0765\n",
      "F1 Score: 0.7342571515196358\n",
      "Random Forest Accuracy: 0.7705\n",
      "\n",
      "Classification Report:\n",
      "              precision    recall  f1-score   support\n",
      "\n",
      "        High       0.77      0.94      0.85       359\n",
      "         Low       0.76      0.65      0.70       192\n",
      "      Medium       0.00      0.00      0.00        46\n",
      "\n",
      "    accuracy                           0.77       597\n",
      "   macro avg       0.51      0.53      0.52       597\n",
      "weighted avg       0.71      0.77      0.73       597\n",
      "\n"
     ]
    }
   ],
   "source": [
    "from sklearn.preprocessing import LabelEncoder\n",
    "from sklearn.ensemble import RandomForestClassifier\n",
    "\n",
    "# Define rating categories\n",
    "def categorize_ratings(rating):\n",
    "    if rating <= 2:\n",
    "        return 'Low'\n",
    "    elif rating == 3:\n",
    "        return 'Medium'\n",
    "    else:\n",
    "        return 'High'\n",
    "\n",
    "df['Rating_Category'] = df['Rating'].apply(categorize_ratings)\n",
    "\n",
    "# Encode categories as labels\n",
    "label_encoder = LabelEncoder()\n",
    "df['Rating_Label'] = label_encoder.fit_transform(df['Rating_Category'])\n",
    "\n",
    "# Feature extraction\n",
    "tfidf_vectorizer = TfidfVectorizer(\n",
    "    tokenizer=lambda doc: doc.split(), \n",
    "    lowercase=False,\n",
    "    max_df=0.95, \n",
    "    min_df=2,     \n",
    "    max_features=1000\n",
    ")\n",
    "X_features = tfidf_vectorizer.fit_transform(df['Processed_Reviews'])\n",
    "\n",
    "# Split data into train/test sets\n",
    "X_train3, X_test3, y_train3, y_test3 = train_test_split(X_features, df['Rating_Label'], test_size=0.2, random_state=42)\n",
    "\n",
    "# Train a Random Forest classifier\n",
    "classifier = RandomForestClassifier(random_state=42)\n",
    "classifier.fit(X_train3, y_train3)\n",
    "\n",
    "# Make predictions\n",
    "y_pred3 = classifier.predict(X_test3)\n",
    "\n",
    "# Calculate and print Mean Squared Error\n",
    "mse_rf = mean_squared_error(df['Rating_Label'], classifier.predict(X_features))\n",
    "print(f'\\nRandom Forest Mean Squared Error: {mse_rf:.4f}')\n",
    "\n",
    "# Calculate F1 score\n",
    "f1 = f1_score(y_test3, y_pred3, average='weighted')\n",
    "print(f'F1 Score: {f1}')\n",
    "\n",
    "# Calculate accuracy\n",
    "accuracy_rf = accuracy_score(y_test3, y_pred3)\n",
    "print(f'Random Forest Accuracy: {accuracy_rf:.4f}')\n",
    "\n",
    "# Print classification report for detailed evaluation\n",
    "print(\"\\nClassification Report:\")\n",
    "print(classification_report(y_test3, y_pred3, target_names=label_encoder.classes_))"
   ]
  },
  {
   "cell_type": "code",
   "execution_count": 29,
   "id": "093e5cfb-e5ac-4f33-b8e8-b25d1aaa40d2",
   "metadata": {},
   "outputs": [
    {
     "name": "stdout",
     "output_type": "stream",
     "text": [
      "\n",
      "Review: \"Bought this phone three weeks ago and now I regret it\"\n",
      "Predicted rating category: Low\n",
      "\n",
      "Review: \"My grandmother said the phone that I gave her last month is good!\"\n",
      "Predicted rating category: High\n",
      "\n",
      "Review: \"This phone not worth the price\"\n",
      "Predicted rating category: High\n",
      "\n",
      "Review: \"GO BUY IT WHILE ITS AVAILABLE! YOU WON'T REGRET IT!\"\n",
      "Predicted rating category: High\n",
      "\n",
      "Review: \"I hate this\"\n",
      "Predicted rating category: High\n",
      "\n",
      "Review: \"Broken stuff\"\n",
      "Predicted rating category: High\n",
      "\n",
      "Review: \"Useful!\"\n",
      "Predicted rating category: High\n",
      "\n",
      "Review: \"Expensive!\"\n",
      "Predicted rating category: High\n",
      "\n",
      "Review: \"Disgusting!\"\n",
      "Predicted rating category: High\n",
      "\n",
      "Review: \"Wonderful~\"\n",
      "Predicted rating category: High\n",
      "\n",
      "Review: \"I like it\"\n",
      "Predicted rating category: High\n",
      "\n",
      "Review: \"I do not like it\"\n",
      "Predicted rating category: High\n",
      "\n",
      "Review: \"I do not want to use it\"\n",
      "Predicted rating category: High\n",
      "\n",
      "Review: \"He does not want to use it\"\n",
      "Predicted rating category: High\n",
      "\n",
      "Review: \"We like to use it\"\n",
      "Predicted rating category: High\n"
     ]
    }
   ],
   "source": [
    "# Test new reviews with Random Forest model\n",
    "new_reviews = [\"Bought this phone three weeks ago and now I regret it\",\n",
    "               \"My grandmother said the phone that I gave her last month is good!\",\n",
    "               \"This phone not worth the price\",\n",
    "               \"GO BUY IT WHILE ITS AVAILABLE! YOU WON'T REGRET IT!\",\n",
    "               \"I hate this\",\n",
    "               \"Broken stuff\",\n",
    "               \"Useful!\",\n",
    "               \"Expensive!\",\n",
    "               \"Disgusting!\",\n",
    "               \"Wonderful~\",\n",
    "               \"I like it\",\n",
    "               \"I do not like it\",\n",
    "               \"I do not want to use it\",\n",
    "               \"He does not want to use it\",\n",
    "               \"We like to use it\"]\n",
    "\n",
    "# Preprocess new reviews and transform them into TF-IDF\n",
    "new_reviews_processed = [preprocess_text(review) for review in new_reviews]\n",
    "new_reviews_vectorized = tfidf_vectorizer.transform(new_reviews_processed)\n",
    "\n",
    "# Predict ratings for new reviews\n",
    "new_predictions = classifier.predict(new_reviews_vectorized)\n",
    "\n",
    "# Print predictions for new reviews\n",
    "for review, prediction in zip(new_reviews, new_predictions):\n",
    "    print(f'\\nReview: \"{review}\"')\n",
    "    print(f'Predicted rating category: {label_encoder.inverse_transform([prediction])[0]}')"
   ]
  },
  {
   "cell_type": "markdown",
   "id": "55663f3b-1929-4477-a76e-caa036a5d6a8",
   "metadata": {},
   "source": [
    "# 3. COMPARISON"
   ]
  },
  {
   "cell_type": "code",
   "execution_count": 44,
   "id": "e5a4e30c-8662-4eda-b248-f2818d30cdca",
   "metadata": {},
   "outputs": [
    {
     "name": "stdout",
     "output_type": "stream",
     "text": [
      "+-------------------+--------+------------+------------+\n",
      "| Model             |    MSE |   Accuracy |   F1 Score |\n",
      "+===================+========+============+============+\n",
      "| Linear Regression | 2.3892 |     0.1562 |     0.1320 |\n",
      "+-------------------+--------+------------+------------+\n",
      "| Naive Bayes       | 2.3719 |     0.5930 |     0.5089 |\n",
      "+-------------------+--------+------------+------------+\n",
      "| Random Forest     | 0.0765 |     0.7705 |     0.7343 |\n",
      "+-------------------+--------+------------+------------+\n"
     ]
    },
    {
     "data": {
      "image/png": "[encoded data removed]",
      "text/plain": [
       "<Figure size 1200x600 with 1 Axes>"
      ]
     },
     "metadata": {},
     "output_type": "display_data"
    }
   ],
   "source": [
    "import matplotlib.pyplot as plt\n",
    "import numpy as np\n",
    "from tabulate import tabulate\n",
    "\n",
    "# Create a list of lists for the table data\n",
    "table_data = list(zip(models, mse, accuracy, f1_score))\n",
    "\n",
    "# Create the table\n",
    "headers = [\"Model\", \"MSE\", \"Accuracy\", \"F1 Score\"]\n",
    "table = tabulate(table_data, headers=headers, floatfmt=\".4f\", tablefmt=\"grid\")\n",
    "\n",
    "print(table)\n",
    "\n",
    "# Data for the graph\n",
    "models = ['Linear Regression', 'Naive Bayes', 'Random Forest']\n",
    "mse = [2.389196, 2.371859, 0.0765]\n",
    "accuracy = [0.1562, 0.592964824120603, 0.7705]\n",
    "f1_score = [0.13204506303498545, 0.5089, 0.7342571515196358]\n",
    "\n",
    "x = np.arange(len(models))  # the label locations\n",
    "width = 0.25  # the width of the bars\n",
    "\n",
    "fig, ax = plt.subplots(figsize=(12, 6))\n",
    "rects1 = ax.bar(x - width, mse, width, label='MSE', color='blue')\n",
    "rects2 = ax.bar(x, accuracy, width, label='Accuracy', color='orange')\n",
    "rects3 = ax.bar(x + width, f1_score, width, label='F1 Score', color='green')\n",
    "\n",
    "# Add some text for labels, title and custom x-axis tick labels, etc.\n",
    "ax.set_ylabel('Scores')\n",
    "ax.set_title('Comparison of Different Models')\n",
    "ax.set_xticks(x)\n",
    "ax.set_xticklabels(models)\n",
    "ax.legend()\n",
    "\n",
    "# Function to add value labels\n",
    "def autolabel(rects):\n",
    "    for rect in rects:\n",
    "        height = rect.get_height()\n",
    "        ax.annotate(f'{height:.3f}',\n",
    "                    xy=(rect.get_x() + rect.get_width() / 2, height),\n",
    "                    xytext=(0, 3),  # 3 points vertical offset\n",
    "                    textcoords=\"offset points\",\n",
    "                    ha='center', va='bottom', rotation=0)\n",
    "\n",
    "autolabel(rects1)\n",
    "autolabel(rects2)\n",
    "autolabel(rects3)\n",
    "\n",
    "# fig.tight_layout()\n",
    "plt.subplots_adjust(left=0.5, right=1, top=1, bottom=0.4)\n",
    "\n",
    "plt.show()"
   ]
  },
  {
   "cell_type": "code",
   "execution_count": null,
   "id": "75259dc8-dbb1-4f0c-906f-d0573abd6265",
   "metadata": {},
   "outputs": [],
   "source": []
  }
 ],
 "metadata": {
  "kernelspec": {
   "display_name": "Python 3 (ipykernel)",
   "language": "python",
   "name": "python3"
  },
  "language_info": {
   "codemirror_mode": {
    "name": "ipython",
    "version": 3
   },
   "file_extension": ".py",
   "mimetype": "text/x-python",
   "name": "python",
   "nbconvert_exporter": "python",
   "pygments_lexer": "ipython3",
   "version": "3.12.4"
  }
 },
 "nbformat": 4,
 "nbformat_minor": 5
}
